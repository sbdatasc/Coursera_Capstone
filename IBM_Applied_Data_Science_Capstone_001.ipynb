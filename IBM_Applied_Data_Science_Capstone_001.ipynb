{
  "nbformat": 4,
  "nbformat_minor": 0,
  "metadata": {
    "colab": {
      "name": "IBM Applied Data Science Capstone 001.ipynb",
      "version": "0.3.2",
      "provenance": [],
      "collapsed_sections": [],
      "include_colab_link": true
    },
    "kernelspec": {
      "name": "python3",
      "display_name": "Python 3"
    }
  },
  "cells": [
    {
      "cell_type": "markdown",
      "metadata": {
        "id": "view-in-github",
        "colab_type": "text"
      },
      "source": [
        "<a href=\"https://colab.research.google.com/github/sbdatasc/Coursera_Capstone/blob/master/IBM_Applied_Data_Science_Capstone_001.ipynb\" target=\"_parent\"><img src=\"https://colab.research.google.com/assets/colab-badge.svg\" alt=\"Open In Colab\"/></a>"
      ]
    },
    {
      "metadata": {
        "id": "BIHlZk9rZsix",
        "colab_type": "text"
      },
      "cell_type": "markdown",
      "source": [
        "# Coursera\n",
        "\n",
        "##Applied Data Science Capstone\n",
        "\n",
        "##IBM\n",
        "\n",
        "###Notes\n",
        "**This is first github commit to Applied Data Science Capstone**  \n",
        "\n",
        "This Jupyter Notebook will be used for the entire capston project\n",
        "\n",
        "## Change log\n",
        "| Date       | Change Log     |\n",
        "|------------|----------------|\n",
        "| 23/12/2018 | Initial Commit |\n",
        "\n",
        "\n",
        "\n",
        "\n",
        "---\n",
        "\n"
      ]
    },
    {
      "metadata": {
        "id": "9ciJ5yIgZhhl",
        "colab_type": "code",
        "colab": {}
      },
      "cell_type": "code",
      "source": [
        "import pandas as pd\n",
        "import numpy as np\n"
      ],
      "execution_count": 0,
      "outputs": []
    },
    {
      "metadata": {
        "id": "KJinNxH-cFa6",
        "colab_type": "code",
        "colab": {
          "base_uri": "https://localhost:8080/",
          "height": 34
        },
        "outputId": "ab89af71-d043-479f-e198-63dc3b004ad8"
      },
      "cell_type": "code",
      "source": [
        "print (\"Hello Capstone Project Course!\")"
      ],
      "execution_count": 1,
      "outputs": [
        {
          "output_type": "stream",
          "text": [
            "Hello Capstone Project Course!\n"
          ],
          "name": "stdout"
        }
      ]
    }
  ]
}